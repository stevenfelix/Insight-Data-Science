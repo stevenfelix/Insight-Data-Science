{
 "cells": [
  {
   "cell_type": "code",
   "execution_count": 1,
   "metadata": {},
   "outputs": [],
   "source": [
    "from stackapi import StackAPI\n",
    "from datetime import datetime, timedelta\n",
    "# create connection\n",
    "SITE = StackAPI('stackoverflow')\n",
    "SITE.page_size = 100\n",
    "SITE.max_pages = 100\n",
    "#SITE.max_pages = 100\n",
    "#start = datetime(2010,4,26)\n",
    "#end = start + timedelta(days=14)\n",
    "path = '/Users/stevenfelix/Dropbox/DataScience/Insight_local/'\n",
    "   \n",
    "for i in range(24):\n",
    "    print(start)\n",
    "    posts = SITE.fetch('questions', filter='withbody', fromdate=start, todate=end)\n",
    "    \n",
    "    # parse and write titles\n",
    "    titles = get_attrib(posts, 'title')\n",
    "    fname = 'titles {} to {} ({}).txt'.format(start.date(), end.date(), len(titles))\n",
    "    append(path+fname, titles)\n",
    "    \n",
    "    # parse and bodies\n",
    "    bodies = get_attrib(posts, 'body')\n",
    "    fname = 'bodies {} to {} ({}).txt'.format(start.date(), end.date(), len(bodies))\n",
    "    append(path+fname, bodies)\n",
    "    \n",
    "    # update dates\n",
    "    start = end + timedelta(days=1)\n",
    "    end = start + timedelta(days=14)\n",
    "    \n",
    "    print('waiting {} seconds'.format(60+posts['backoff']))\n",
    "    time.sleep(60+posts['backoff'])"
   ]
  },
  {
   "cell_type": "code",
   "execution_count": 2,
   "metadata": {},
   "outputs": [],
   "source": [
    "from nltk.tokenize import RegexpTokenizer # tokenizing\n",
    "from nltk.corpus import stopwords  # list of stop words\n",
    "from nltk.stem.wordnet import WordNetLemmatizer # lemmatizer"
   ]
  },
  {
   "cell_type": "code",
   "execution_count": 3,
   "metadata": {},
   "outputs": [],
   "source": [
    "# create connection\n",
    "SITE = StackAPI('stackoverflow')\n",
    "SITE.page_size = 100\n",
    "SITE.max_pages = 100"
   ]
  },
  {
   "cell_type": "code",
   "execution_count": 4,
   "metadata": {},
   "outputs": [],
   "source": [
    "def get_attrib(posts, tag):\n",
    "    return [d[tag] for d in posts['items']]\n",
    "\n",
    "def append(filename, dat):    \n",
    "    with open(filename, 'a+') as f:\n",
    "        for item in dat:\n",
    "            f.write(item+'\\n')"
   ]
  },
  {
   "cell_type": "code",
   "execution_count": 9,
   "metadata": {},
   "outputs": [
    {
     "data": {
      "text/plain": [
       "datetime.datetime(2010, 5, 11, 0, 0)"
      ]
     },
     "execution_count": 9,
     "metadata": {},
     "output_type": "execute_result"
    }
   ],
   "source": [
    "start"
   ]
  },
  {
   "cell_type": "code",
   "execution_count": 10,
   "metadata": {
    "scrolled": true
   },
   "outputs": [
    {
     "name": "stdout",
     "output_type": "stream",
     "text": [
      "2010-05-11 00:00:00\n",
      "waiting 60 seconds\n",
      "2010-05-26 00:00:00\n",
      "waiting 60 seconds\n",
      "2010-06-10 00:00:00\n"
     ]
    },
    {
     "ename": "StackAPIError",
     "evalue": "('https://api.stackexchange.com/2.2/questions/?pagesize=100&page=1&filter=withbody&fromdate=1276128000&todate=1277337600&site=stackoverflow', 502, 'throttle_violation', 'too many requests from this IP, more requests available in 85887 seconds')",
     "output_type": "error",
     "traceback": [
      "\u001b[0;31m---------------------------------------------------------------------------\u001b[0m",
      "\u001b[0;31mStackAPIError\u001b[0m                             Traceback (most recent call last)",
      "\u001b[0;32m<ipython-input-10-48bed392bf44>\u001b[0m in \u001b[0;36m<module>\u001b[0;34m()\u001b[0m\n\u001b[1;32m      6\u001b[0m \u001b[0;32mfor\u001b[0m \u001b[0mi\u001b[0m \u001b[0;32min\u001b[0m \u001b[0mrange\u001b[0m\u001b[0;34m(\u001b[0m\u001b[0;36m24\u001b[0m\u001b[0;34m)\u001b[0m\u001b[0;34m:\u001b[0m\u001b[0;34m\u001b[0m\u001b[0m\n\u001b[1;32m      7\u001b[0m     \u001b[0mprint\u001b[0m\u001b[0;34m(\u001b[0m\u001b[0mstart\u001b[0m\u001b[0;34m)\u001b[0m\u001b[0;34m\u001b[0m\u001b[0m\n\u001b[0;32m----> 8\u001b[0;31m     \u001b[0mposts\u001b[0m \u001b[0;34m=\u001b[0m \u001b[0mSITE\u001b[0m\u001b[0;34m.\u001b[0m\u001b[0mfetch\u001b[0m\u001b[0;34m(\u001b[0m\u001b[0;34m'questions'\u001b[0m\u001b[0;34m,\u001b[0m \u001b[0mfilter\u001b[0m\u001b[0;34m=\u001b[0m\u001b[0;34m'withbody'\u001b[0m\u001b[0;34m,\u001b[0m \u001b[0mfromdate\u001b[0m\u001b[0;34m=\u001b[0m\u001b[0mstart\u001b[0m\u001b[0;34m,\u001b[0m \u001b[0mtodate\u001b[0m\u001b[0;34m=\u001b[0m\u001b[0mend\u001b[0m\u001b[0;34m)\u001b[0m\u001b[0;34m\u001b[0m\u001b[0m\n\u001b[0m\u001b[1;32m      9\u001b[0m \u001b[0;34m\u001b[0m\u001b[0m\n\u001b[1;32m     10\u001b[0m     \u001b[0;31m# parse and write titles\u001b[0m\u001b[0;34m\u001b[0m\u001b[0;34m\u001b[0m\u001b[0m\n",
      "\u001b[0;32m~/anaconda3/lib/python3.6/site-packages/stackapi/stackapi.py\u001b[0m in \u001b[0;36mfetch\u001b[0;34m(self, endpoint, page, key, filter, **kwargs)\u001b[0m\n\u001b[1;32m    197\u001b[0m                 \u001b[0mcode\u001b[0m \u001b[0;34m=\u001b[0m \u001b[0mresponse\u001b[0m\u001b[0;34m[\u001b[0m\u001b[0;34m\"error_name\"\u001b[0m\u001b[0;34m]\u001b[0m\u001b[0;34m\u001b[0m\u001b[0m\n\u001b[1;32m    198\u001b[0m                 \u001b[0mmessage\u001b[0m \u001b[0;34m=\u001b[0m \u001b[0mresponse\u001b[0m\u001b[0;34m[\u001b[0m\u001b[0;34m\"error_message\"\u001b[0m\u001b[0;34m]\u001b[0m\u001b[0;34m\u001b[0m\u001b[0m\n\u001b[0;32m--> 199\u001b[0;31m                 \u001b[0;32mraise\u001b[0m \u001b[0mStackAPIError\u001b[0m\u001b[0;34m(\u001b[0m\u001b[0mself\u001b[0m\u001b[0;34m.\u001b[0m\u001b[0m_previous_call\u001b[0m\u001b[0;34m,\u001b[0m \u001b[0merror\u001b[0m\u001b[0;34m,\u001b[0m \u001b[0mcode\u001b[0m\u001b[0;34m,\u001b[0m \u001b[0mmessage\u001b[0m\u001b[0;34m)\u001b[0m\u001b[0;34m\u001b[0m\u001b[0m\n\u001b[0m\u001b[1;32m    200\u001b[0m             \u001b[0;32mexcept\u001b[0m \u001b[0mKeyError\u001b[0m\u001b[0;34m:\u001b[0m\u001b[0;34m\u001b[0m\u001b[0m\n\u001b[1;32m    201\u001b[0m                 \u001b[0;32mpass\u001b[0m  \u001b[0;31m# This means there is no error\u001b[0m\u001b[0;34m\u001b[0m\u001b[0m\n",
      "\u001b[0;31mStackAPIError\u001b[0m: ('https://api.stackexchange.com/2.2/questions/?pagesize=100&page=1&filter=withbody&fromdate=1276128000&todate=1277337600&site=stackoverflow', 502, 'throttle_violation', 'too many requests from this IP, more requests available in 85887 seconds')"
     ]
    }
   ],
   "source": [
    "#SITE.max_pages = 100\n",
    "#start = datetime(2010,4,26)\n",
    "#end = start + timedelta(days=14)\n",
    "path = '/Users/stevenfelix/Dropbox/DataScience/Insight_local/'\n",
    "   \n",
    "for i in range(24):\n",
    "    print(start)\n",
    "    posts = SITE.fetch('questions', filter='withbody', fromdate=start, todate=end)\n",
    "    \n",
    "    # parse and write titles\n",
    "    titles = get_attrib(posts, 'title')\n",
    "    fname = 'titles {} to {} ({}).txt'.format(start.date(), end.date(), len(titles))\n",
    "    append(path+fname, titles)\n",
    "    \n",
    "    # parse and bodies\n",
    "    bodies = get_attrib(posts, 'body')\n",
    "    fname = 'bodies {} to {} ({}).txt'.format(start.date(), end.date(), len(bodies))\n",
    "    append(path+fname, bodies)\n",
    "    \n",
    "    # update dates\n",
    "    start = end + timedelta(days=1)\n",
    "    end = start + timedelta(days=14)\n",
    "    \n",
    "    print('waiting {} seconds'.format(60+posts['backoff']))\n",
    "    time.sleep(60+posts['backoff'])"
   ]
  },
  {
   "cell_type": "code",
   "execution_count": null,
   "metadata": {},
   "outputs": [],
   "source": [
    "print(posts['items'][0]['title'])\n",
    "time = posts['items'][0]['creation_date']\n",
    "print(datetime.fromtimestamp(time))"
   ]
  },
  {
   "cell_type": "code",
   "execution_count": null,
   "metadata": {},
   "outputs": [],
   "source": [
    "datetime.fromtimestamp(time) + timedelta(days=30)"
   ]
  },
  {
   "cell_type": "code",
   "execution_count": null,
   "metadata": {},
   "outputs": [],
   "source": [
    "print(posts['items'][1]['title'])\n",
    "time = posts['items'][1]['creation_date']\n",
    "print(datetime.fromtimestamp(time))"
   ]
  },
  {
   "cell_type": "code",
   "execution_count": null,
   "metadata": {},
   "outputs": [],
   "source": [
    "print(posts['items'][3]['title'])\n",
    "time = posts['items'][3]['creation_date']\n",
    "print(datetime.fromtimestamp(time))"
   ]
  },
  {
   "cell_type": "code",
   "execution_count": null,
   "metadata": {},
   "outputs": [],
   "source": [
    "your_timestamp = 1329698372\n",
    "datetime.fromtimestamp(your_timestamp)"
   ]
  },
  {
   "cell_type": "code",
   "execution_count": null,
   "metadata": {},
   "outputs": [],
   "source": [
    "pd.Timestamp(1489158548)"
   ]
  },
  {
   "cell_type": "code",
   "execution_count": null,
   "metadata": {},
   "outputs": [],
   "source": [
    "t2, b2 = get_titles_bodies(SITE, 'questions', datetime(2010,1,1), datetime(2018,1,1))"
   ]
  },
  {
   "cell_type": "code",
   "execution_count": null,
   "metadata": {},
   "outputs": [],
   "source": [
    "# titles\n",
    "with open('titles.txt', 'a+') as f:\n",
    "    for item in t2:\n",
    "        f.write(item+'\\n')"
   ]
  },
  {
   "cell_type": "code",
   "execution_count": null,
   "metadata": {},
   "outputs": [],
   "source": [
    "# bodies\n",
    "with open('bodies.txt', 'a+') as f:\n",
    "    for item in b2:\n",
    "        f.write(item+'\\n')"
   ]
  },
  {
   "cell_type": "code",
   "execution_count": null,
   "metadata": {},
   "outputs": [],
   "source": [
    "\n",
    "# 500 questions per call\n",
    "questions = SITE.fetch('questions')#, filter='withbody')\n",
    "titles = [d['title'] for d in questions['items']]\n",
    "titles"
   ]
  },
  {
   "cell_type": "code",
   "execution_count": null,
   "metadata": {},
   "outputs": [],
   "source": [
    "questions = SITE.fetch('questions', filter='withbody')"
   ]
  },
  {
   "cell_type": "code",
   "execution_count": null,
   "metadata": {},
   "outputs": [],
   "source": [
    "print(questions['items'][0]['body'])\n",
    "questions['items'][0]['title']"
   ]
  },
  {
   "cell_type": "code",
   "execution_count": null,
   "metadata": {
    "scrolled": true
   },
   "outputs": [],
   "source": [
    "titles"
   ]
  },
  {
   "cell_type": "code",
   "execution_count": null,
   "metadata": {},
   "outputs": [],
   "source": [
    "k = range(3)\n",
    "for i in k:\n",
    "    questions = SITE.fetch('questions')#, filter='withbody')\n",
    "    titles.extend([d['title'] for d in questions['items']])\n"
   ]
  },
  {
   "cell_type": "code",
   "execution_count": null,
   "metadata": {
    "scrolled": false
   },
   "outputs": [],
   "source": [
    "len(titles)"
   ]
  },
  {
   "cell_type": "code",
   "execution_count": null,
   "metadata": {},
   "outputs": [],
   "source": [
    "with open('titles.txt', 'w') as f:\n",
    "    for item in titles:\n",
    "        f.write(item+'\\n')"
   ]
  },
  {
   "cell_type": "code",
   "execution_count": null,
   "metadata": {},
   "outputs": [],
   "source": []
  },
  {
   "cell_type": "code",
   "execution_count": null,
   "metadata": {},
   "outputs": [],
   "source": []
  }
 ],
 "metadata": {
  "kernelspec": {
   "display_name": "Python 3",
   "language": "python",
   "name": "python3"
  },
  "language_info": {
   "codemirror_mode": {
    "name": "ipython",
    "version": 3
   },
   "file_extension": ".py",
   "mimetype": "text/x-python",
   "name": "python",
   "nbconvert_exporter": "python",
   "pygments_lexer": "ipython3",
   "version": "3.6.4"
  }
 },
 "nbformat": 4,
 "nbformat_minor": 2
}
