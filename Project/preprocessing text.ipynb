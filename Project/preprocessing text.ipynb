{
 "cells": [
  {
   "cell_type": "code",
   "execution_count": 1,
   "metadata": {},
   "outputs": [],
   "source": [
    "import pandas as pd\n",
    "import numpy as np\n",
    "import os\n",
    "import re"
   ]
  },
  {
   "cell_type": "code",
   "execution_count": 10,
   "metadata": {},
   "outputs": [],
   "source": [
    "from html.parser import HTMLParser"
   ]
  },
  {
   "cell_type": "code",
   "execution_count": 12,
   "metadata": {},
   "outputs": [],
   "source": [
    "from lxml import html, etree"
   ]
  },
  {
   "cell_type": "markdown",
   "metadata": {},
   "source": [
    "# Data pre-processing"
   ]
  },
  {
   "cell_type": "markdown",
   "metadata": {},
   "source": [
    "## Loading small batch of  data to practice"
   ]
  },
  {
   "cell_type": "code",
   "execution_count": 55,
   "metadata": {},
   "outputs": [],
   "source": [
    "path = '/Volumes/Bernie the Backup/'\n",
    "text = \"\"\n",
    "with open(path+'posts_small.txt', 'r') as f:\n",
    "    i = 0\n",
    "    for line in f:\n",
    "        i+=1\n",
    "        text = text+line\n",
    "        if i == 200:\n",
    "            break"
   ]
  },
  {
   "cell_type": "code",
   "execution_count": 57,
   "metadata": {
    "scrolled": true
   },
   "outputs": [
    {
     "name": "stdout",
     "output_type": "stream",
     "text": [
      "While applying opacity to a form, should we use a decimal or a double value?\n",
      "I want to use a track-bar to change a form's opacity.\n",
      "This is my code:\n",
      "\n",
      "When I build the application, it gives the following error:\n",
      "\n",
      "Cannot implicitly convert type  to .\n",
      "\n",
      "I tried using  and  but then the control doesn't work. This code worked fine in a past VB.NET project.\n",
      "\n",
      "Percentage width child element in absolutely positioned parent on Internet Explorer 7\n",
      "I have an absolutely positioned  containing several children, one of which is a relatively positioned . When I use a percentage-based width on the child , it collapses to '0' width on Internet Explorer 7, but not on Firefox or Safari.\n",
      "If I use pixel width, it works. If the parent is relatively positioned, the percentage width on the child works.\n",
      "\n",
      "Is there something I'm missing here?\n",
      "Is there an easy fix for this besides the pixel-based width on the\n",
      "child?\n",
      "Is there an area of the CSS specification that covers this?\n",
      "\n",
      "An explicit cast to double isn't necessary.\n",
      "\n",
      "Identifying the constant as  (or as ) is sufficient:\n",
      "\n",
      "\n",
      "How do I calculate someone's age in C#?\n",
      "Given a  representing a person's birthday, how do I calculate their age in years?  \n",
      "\n",
      "Calculate relative time in C#\n",
      "Given a specific  value, how do I display relative time, like:\n",
      "\n",
      "2 hours ago\n",
      "3 days ago\n",
      "a month ago\n",
      "\n",
      "Well, here's how we do it on Stack Overflow.\n",
      "\n",
      "Suggestions? Comments? Ways to improve this algorithm?\n",
      "\n",
      "Determine a User's Timezone\n",
      "Is there any standard way for a Web Server to be able to determine a user's timezone within a web page? Perhaps from a HTTP header or part of the user-agent string?\n",
      "\n",
      "Difference between Math.Floor() and Math.Truncate()\n",
      "What is the difference between  and  in .NET?\n",
      "\n",
      "Filling a DataSet or DataTable from a LINQ query result set\n",
      "How do you expose a LINQ query as an ASMX web service? Usually, from the business tier, I can return a typed  or  which can be serialized for transport over ASMX.\n",
      "How can I do the same for a LINQ query? Is there a way to populate a typed  or  via a LINQ query?\n",
      "\n",
      "How can I get the result set of a LINQ query into a  or ? Alternatively, is the LINQ query serializeable so that I can expose it as an ASMX web service?\n",
      "\n",
      "Binary Data in MySQL\n",
      "How do I store binary data in MySQL?\n",
      "For a table like this:\n",
      "\n",
      "Here is a PHP example:\n",
      "\n",
      "\n",
      "What is the fastest way to get the value of π?\n",
      "Solutions are welcome in any language. :-) I'm looking for the fastest way to obtain the value of π, as a personal challenge. More specifically I'm using ways that don't involve using d constants like , or hard-coding the number in.\n",
      "The program below tests the various ways I know of. The inline assembly version is, in theory, the fastest option, though clearly not portable; I've included it as a baseline to compare the other versions against. In my tests, with built-ins, the  version is fastest on GCC 4.2, because it auto-folds the  into a constant. With  specified, the  version is fastest.\n",
      "Here's the main testing program ():\n",
      "\n"
     ]
    }
   ],
   "source": [
    "soup = BeautifulSoup(text, 'lxml')\n",
    "\n",
    "for tag in soup.find_all('code'):\n",
    "    tag.replaceWith('')\n",
    "\n",
    "print(soup.get_text() )"
   ]
  },
  {
   "cell_type": "markdown",
   "metadata": {},
   "source": [
    "### Looks like its working"
   ]
  },
  {
   "cell_type": "code",
   "execution_count": null,
   "metadata": {},
   "outputs": [],
   "source": []
  },
  {
   "cell_type": "code",
   "execution_count": null,
   "metadata": {},
   "outputs": [],
   "source": []
  },
  {
   "cell_type": "code",
   "execution_count": null,
   "metadata": {},
   "outputs": [],
   "source": []
  },
  {
   "cell_type": "markdown",
   "metadata": {},
   "source": [
    "## Pre-processing"
   ]
  },
  {
   "cell_type": "code",
   "execution_count": 28,
   "metadata": {},
   "outputs": [],
   "source": [
    "from nltk.tokenize import RegexpTokenizer # tokenizing\n",
    "from nltk.corpus import stopwords  # list of stop words\n",
    "from nltk.stem.wordnet import WordNetLemmatizer # lemmatizer"
   ]
  },
  {
   "cell_type": "code",
   "execution_count": 58,
   "metadata": {},
   "outputs": [],
   "source": [
    "#import string\n",
    "\n",
    "tokenizer = RegexpTokenizer(r'\\w+') # tokens separated by white spice\n",
    "stops = set(stopwords.words('english')) # list of english stop words\n",
    "lemma = WordNetLemmatizer()\n",
    "\n",
    "def clean(title, rmv_stop_words=False):\n",
    "    tokens = tokenizer.tokenize(title.lower())     # tokenize\n",
    "    if rmv_stop_words:\n",
    "        tokens = [i for i in tokens if not i in stops] # remove stop words\n",
    "    normalized = [lemma.lemmatize(token) for token in tokens] # lemma\n",
    "    return normalized"
   ]
  },
  {
   "cell_type": "code",
   "execution_count": 37,
   "metadata": {},
   "outputs": [
    {
     "name": "stdout",
     "output_type": "stream",
     "text": [
      "StructureMap AlwaysUnique does not seem to work with constructor injection\n",
      "\n",
      "['structuremap', 'alwaysunique', 'seem', 'work', 'constructor', 'injection']\n"
     ]
    }
   ],
   "source": [
    "# example\n",
    "x = 200\n",
    "print(all_titles[x])\n",
    "print(clean(all_titles[x]))"
   ]
  },
  {
   "cell_type": "code",
   "execution_count": 61,
   "metadata": {},
   "outputs": [],
   "source": [
    "corpus = [clean(title) for title in all_titles]"
   ]
  },
  {
   "cell_type": "code",
   "execution_count": 59,
   "metadata": {},
   "outputs": [],
   "source": [
    "corpus_nostop = [clean(title, rmv_stop_words=True) for title in all_titles]"
   ]
  }
 ],
 "metadata": {
  "kernelspec": {
   "display_name": "Python 3",
   "language": "python",
   "name": "python3"
  },
  "language_info": {
   "codemirror_mode": {
    "name": "ipython",
    "version": 3
   },
   "file_extension": ".py",
   "mimetype": "text/x-python",
   "name": "python",
   "nbconvert_exporter": "python",
   "pygments_lexer": "ipython3",
   "version": "3.6.4"
  }
 },
 "nbformat": 4,
 "nbformat_minor": 2
}
